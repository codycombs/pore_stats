{
 "cells": [
  {
   "cell_type": "markdown",
   "metadata": {},
   "source": [
    "# File conversions\n",
    "\n",
    "### Resistive pulse:\n",
    "- .atf to .bts\n",
    "- .atf to .bts (directory)\n",
    "- .bts splitting\n",
    "\n",
    "### Optical imaging:\n",
    "- .mp4 to .bvi"
   ]
  },
  {
   "cell_type": "markdown",
   "metadata": {},
   "source": [
    "## Imports"
   ]
  },
  {
   "cell_type": "code",
   "execution_count": null,
   "metadata": {
    "collapsed": true
   },
   "outputs": [],
   "source": [
    "import csv\n",
    "from array import array\n",
    "import struct\n",
    "import numpy as np\n",
    "import os\n",
    "from os.path import isfile, join"
   ]
  },
  {
   "cell_type": "markdown",
   "metadata": {},
   "source": [
    "## Resistive Pulse"
   ]
  },
  {
   "cell_type": "code",
   "execution_count": null,
   "metadata": {
    "collapsed": true
   },
   "outputs": [],
   "source": [
    "import resistive_pulse as rp\n",
    "import rp_file"
   ]
  },
  {
   "cell_type": "markdown",
   "metadata": {},
   "source": [
    "### .atf to .bts"
   ]
  },
  {
   "cell_type": "code",
   "execution_count": null,
   "metadata": {
    "collapsed": true
   },
   "outputs": [],
   "source": [
    "directory = '/home/preston/Desktop/Science/Research/cancer_cells/data/10-6-2016/atf/'\n",
    "file_name = 'hct116_17530175_pr0040_0000.atf'\n",
    "file_path = directory + file_name"
   ]
  },
  {
   "cell_type": "code",
   "execution_count": null,
   "metadata": {
    "collapsed": false
   },
   "outputs": [],
   "source": [
    "rp_file.atf_to_bts(file_path)"
   ]
  },
  {
   "cell_type": "markdown",
   "metadata": {},
   "source": [
    "### directory .atf to .bts\n",
    "- Full-directory conversion of .atf to .bts"
   ]
  },
  {
   "cell_type": "code",
   "execution_count": null,
   "metadata": {
    "collapsed": false
   },
   "outputs": [],
   "source": [
    "directory = '/home/preston/Desktop/Science/Research/precipitation/data/2016_08_26_Conical_pore_0/precip/atf/'\n",
    "file_paths = [os.path.join(directory, f) for f in os.listdir(directory) if os.path.isfile(os.path.join(directory, f))]\n",
    "\n",
    "for file_path in file_paths:\n",
    "    print file_path, '\\n'"
   ]
  },
  {
   "cell_type": "code",
   "execution_count": null,
   "metadata": {
    "collapsed": false
   },
   "outputs": [],
   "source": [
    "for file_path in file_paths:\n",
    "    rp_file.atf_to_bts(file_path)"
   ]
  },
  {
   "cell_type": "markdown",
   "metadata": {},
   "source": [
    "### Split bts\n",
    "- Split a bts file into multiple parts to facilitate easier usage (e.g., pore_stats can hang up on files with 1000+ events for now)."
   ]
  },
  {
   "cell_type": "code",
   "execution_count": null,
   "metadata": {
    "collapsed": true
   },
   "outputs": [],
   "source": [
    "file_path = '/home/preston/Desktop/Science/Research/cancer_cells/data/8-18-2016/rp/bts/HCT116_pr0009_0000_split0.bts'"
   ]
  },
  {
   "cell_type": "code",
   "execution_count": null,
   "metadata": {
    "collapsed": false
   },
   "outputs": [],
   "source": [
    "rp_file.split_file(file_path, 6)      # Second number is number of segments to split in to"
   ]
  },
  {
   "cell_type": "markdown",
   "metadata": {
    "collapsed": true
   },
   "source": [
    "## Optical imaging"
   ]
  },
  {
   "cell_type": "markdown",
   "metadata": {},
   "source": [
    "### mp4 to bvi"
   ]
  },
  {
   "cell_type": "code",
   "execution_count": null,
   "metadata": {
    "collapsed": false
   },
   "outputs": [],
   "source": [
    "import optical_imaging as oi\n",
    "import oi_file"
   ]
  },
  {
   "cell_type": "code",
   "execution_count": null,
   "metadata": {
    "collapsed": false
   },
   "outputs": [],
   "source": [
    "directory = '/home/preston/Desktop/Science/Research/cancer_cells/data/10-6-2016/'\n",
    "file_path = directory + 'hct-116_methylcellulose_pr0040_1.mp4'\n",
    "\n",
    "output_file_path = filepath.split('.')[0]+'.bvi'\n",
    "\n",
    "oi_file.mp4_to_oi(file_path, output_filepath, alpha = 1., beta = .0)"
   ]
  }
 ],
 "metadata": {
  "kernelspec": {
   "display_name": "Python 2",
   "language": "python",
   "name": "python2"
  },
  "language_info": {
   "codemirror_mode": {
    "name": "ipython",
    "version": 2
   },
   "file_extension": ".py",
   "mimetype": "text/x-python",
   "name": "python",
   "nbconvert_exporter": "python",
   "pygments_lexer": "ipython2",
   "version": "2.7.11"
  }
 },
 "nbformat": 4,
 "nbformat_minor": 0
}
