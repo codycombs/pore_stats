{
 "cells": [
  {
   "cell_type": "code",
   "execution_count": 1,
   "metadata": {
    "collapsed": false
   },
   "outputs": [],
   "source": [
    "import sys\n",
    "from PyQt4.QtCore import *\n",
    "from PyQt4.QtGui import *"
   ]
  },
  {
   "cell_type": "code",
   "execution_count": 2,
   "metadata": {
    "collapsed": false
   },
   "outputs": [],
   "source": [
    "def create_mainwindow():\n",
    "    # Create window\n",
    "    main_window = QWidget()\n",
    "    main_window.setGeometry(100,100,200,100)\n",
    "    \n",
    "    # Create buttons\n",
    "    button_rp = QPushButton(main_window)\n",
    "    button_rp.setText(\"Open RP\")\n",
    "    button_rp.move(50,20)\n",
    "    button_rp.clicked.connect(button_rp_clicked)\n",
    "    return main_window\n",
    "\n",
    "def create_rp_window():\n",
    "    # Initialize RP window\n",
    "    rp_window = QDialog()\n",
    "    rp_window.setGeometry(100,100,200,100)\n",
    "    rp_window.setWindowTitle('Resistive pulse analysis')\n",
    "    rp_window.setWindowModality(Qt.ApplicationModal)\n",
    "    \n",
    "    # Add perform_rp button'\n",
    "    button_perform_rp = QPushButton('OK', )\n",
    "    return rp_window\n",
    "\n",
    "def button_rp_clicked():\n",
    "    rp_window = create_rp_window()\n",
    "    rp_window.exec_()\n",
    "    \n",
    "    return\n",
    "\n",
    "def run_app():\n",
    "    app = QApplication(sys.argv)\n",
    "\n",
    "    win = create_mainwindow()\n",
    "    win.show()\n",
    "    \n",
    "    \n",
    "    sys.exit(app.exec_())\n",
    "    \n",
    "\n"
   ]
  },
  {
   "cell_type": "code",
   "execution_count": 3,
   "metadata": {
    "collapsed": false
   },
   "outputs": [
    {
     "ename": "SystemExit",
     "evalue": "0",
     "output_type": "error",
     "traceback": [
      "An exception has occurred, use %tb to see the full traceback.\n",
      "\u001b[1;31mSystemExit\u001b[0m\u001b[1;31m:\u001b[0m 0\n"
     ]
    },
    {
     "name": "stderr",
     "output_type": "stream",
     "text": [
      "To exit: use 'exit', 'quit', or Ctrl-D.\n"
     ]
    }
   ],
   "source": [
    "if __name__ == '__main__':\n",
    "    run_app()"
   ]
  },
  {
   "cell_type": "code",
   "execution_count": null,
   "metadata": {
    "collapsed": true
   },
   "outputs": [],
   "source": []
  }
 ],
 "metadata": {
  "kernelspec": {
   "display_name": "Python 2",
   "language": "python",
   "name": "python2"
  },
  "language_info": {
   "codemirror_mode": {
    "name": "ipython",
    "version": 2
   },
   "file_extension": ".py",
   "mimetype": "text/x-python",
   "name": "python",
   "nbconvert_exporter": "python",
   "pygments_lexer": "ipython2",
   "version": "2.7.11"
  }
 },
 "nbformat": 4,
 "nbformat_minor": 0
}
