{
 "cells": [
  {
   "cell_type": "markdown",
   "metadata": {},
   "source": [
    "# Imports and file loading"
   ]
  },
  {
   "cell_type": "code",
   "execution_count": null,
   "metadata": {
    "collapsed": true
   },
   "outputs": [],
   "source": [
    "import matplotlib.pyplot as plt\n",
    "%matplotlib inline\n",
    "import csv\n",
    "import numpy as np\n",
    "from event import Event"
   ]
  },
  {
   "cell_type": "code",
   "execution_count": null,
   "metadata": {
    "collapsed": true
   },
   "outputs": [],
   "source": [
    "def file_len(fname):\n",
    "    with open(fname) as f:\n",
    "        for i, l in enumerate(f):\n",
    "            pass\n",
    "    f.close()\n",
    "    return i + 1\n",
    "\n",
    "def open_full_atf_file(file_name):\n",
    "    file_length=file_len(file_name)\n",
    "    file_handle=open(directory+file_name, 'r')\n",
    "    csv_reader = csv.reader(file_handle, delimiter='\\t', quotechar='|')\n",
    "    data=np.empty((file_length,2))\n",
    "    i=0\n",
    "    for row in csv_reader:\n",
    "        data[i,0]=row[0]\n",
    "        data[i,1]=row[1]\n",
    "        i+=1\n",
    "    \n",
    "    return data\n",
    "\n",
    "\n",
    "def open_raw_file(file_name, data_point_start=-1, data_point_end=-1):\n",
    "    # open full file\n",
    "    if data_point_start == -1:\n",
    "        data_point_start=0\n",
    "    if data_point_end == -1:\n",
    "        data_point_end=file_len(file_name)\n",
    "    print data_point_end\n",
    "    \n",
    "    data=np.empty((data_point_end-data_point_start,2))\n",
    "        \n",
    "    file_handle=open(file_name, 'r')\n",
    "    csv_reader = csv.reader(file_handle, delimiter='\\t', quotechar='|')\n",
    "    \n",
    "    for i in range(0, data_point_start):\n",
    "        row=csv_reader.next()\n",
    "    \n",
    "    for i in range(0, data_point_end-data_point_start):\n",
    "        row=csv_reader.next()\n",
    "        try:\n",
    "            data[i,0]=row[0]\n",
    "            data[i,1]=row[1]\n",
    "        except:\n",
    "            continue\n",
    "            \n",
    "    file_handle.close()\n",
    "    \n",
    "    return data"
   ]
  },
  {
   "cell_type": "markdown",
   "metadata": {},
   "source": [
    "# Preliminary"
   ]
  },
  {
   "cell_type": "code",
   "execution_count": null,
   "metadata": {
    "collapsed": false
   },
   "outputs": [],
   "source": [
    "# File info\n",
    "directory='./data/'\n",
    "file_name='Chip4_HCT116_0021_0.005'\n",
    "file_length=file_len(directory+file_name)"
   ]
  },
  {
   "cell_type": "code",
   "execution_count": null,
   "metadata": {
    "collapsed": false
   },
   "outputs": [],
   "source": [
    "# Define search parameters\n",
    "interval=1000000\n",
    "\n",
    "baseline_avg_length=100    # was 200\n",
    "event_avg_length=3 # was 5\n",
    "trigger_sigma_threshold=5\n",
    "max_search_length=1000\n",
    "\n",
    "event_indices=np.empty((0,2),dtype=int)\n",
    "baseline=np.empty((0,4), dtype=float)"
   ]
  },
  {
   "cell_type": "code",
   "execution_count": null,
   "metadata": {
    "collapsed": false
   },
   "outputs": [],
   "source": [
    "i=0\n",
    "start=1000\n",
    "stop=interval\n",
    "data=open_raw_file(directory+file_name, 1000, 1000000)"
   ]
  },
  {
   "cell_type": "code",
   "execution_count": null,
   "metadata": {
    "collapsed": true
   },
   "outputs": [],
   "source": [
    "baseline_avg_length=200    # was 200\n",
    "event_avg_length=5\n",
    "trigger_sigma_threshold=6\n",
    "max_search_length=1000\n",
    "baseline=np.empty((0,4))\n",
    "\n",
    "current_index=0\n",
    "while current_index+baseline_avg_length <= data.shape[0]:\n",
    "    baseline_avg=np.mean(data[current_index:current_index+baseline_avg_length,1])\n",
    "    baseline_sigma=np.std(data[current_index:current_index+baseline_avg_length,1])\n",
    "    baseline=np.vstack((baseline, [[data[current_index,0], baseline_avg,\\\n",
    "                                    baseline_avg-1.*trigger_sigma_threshold*baseline_sigma,\\\n",
    "                                    baseline_avg+1.*trigger_sigma_threshold*baseline_sigma]]))\n",
    "    current_index+=baseline_avg_length"
   ]
  },
  {
   "cell_type": "code",
   "execution_count": null,
   "metadata": {
    "collapsed": false
   },
   "outputs": [],
   "source": [
    "# Plot current over interval used to calculate the baseline\n",
    "plt.plot(data[:baseline_avg_length,0], data[:baseline_avg_length,1])\n",
    "\n",
    "plt.title('baseline interval')\n",
    "plt.ticklabel_format(style='sci', axis='x', scilimits=(0,0))\n",
    "plt.xlabel('time (s)')\n",
    "plt.ylabel('current')\n",
    "\n",
    "plt.show()\n",
    "\n",
    "# Plot close up\n",
    "a=0\n",
    "b=2000\n",
    "plt.plot(data[a:b,0], data[a:b,1])\n",
    "#plt.plot(baseline[a:b,0], baseline[:,1], label='baseline')\n",
    "plt.plot(baseline[:,0], baseline[:,2], label='trigger threshold (negative)', marker='o')\n",
    "#plt.plot(baseline[a:b,0], baseline[:,3], label='trigger threshold (positive)')\n",
    "plt.xlim(data[a,0],data[b,0])\n",
    "plt.ylim(82000,86000)\n",
    "plt.show()\n",
    "\n",
    "# Plot baseline and trigger value\n",
    "fig=plt.figure(figsize=(10,8))\n",
    "plt.plot(data[:,0], data[:,1], label='data')\n",
    "plt.plot(baseline[:,0], baseline[:,1], label='baseline')\n",
    "plt.plot(baseline[:,0], baseline[:,2], label='trigger threshold (negative)')\n",
    "plt.plot(baseline[:,0], baseline[:,3], label='trigger threshold (positive)')\n",
    "\n",
    "plt.xlim(data[0,0], data[-1,0])\n",
    "\n",
    "plt.legend(loc='lower right')\n",
    "\n",
    "plt.title('data, baseline, trigger threshold')\n",
    "plt.show()"
   ]
  },
  {
   "cell_type": "markdown",
   "metadata": {},
   "source": [
    "# Begin file scan"
   ]
  },
  {
   "cell_type": "code",
   "execution_count": null,
   "metadata": {
    "collapsed": false
   },
   "outputs": [],
   "source": [
    "### baseline=np.empty((0,4), dtype=float)\n",
    "event_indices=np.empty((0,2),dtype=int)\n",
    "\n",
    "events=[]\n",
    "\n",
    "i=0\n",
    "file_finished=False\n",
    "\n",
    "baseline=np.empty((0,4))\n",
    "\n",
    "while i < 10:\n",
    "    # Load next interval\n",
    "    print 'i=',i\n",
    "    start=1000+i*interval\n",
    "    stop=start+interval\n",
    "    if stop+interval > file_length:\n",
    "        stop=file_length\n",
    "        file_finished = True\n",
    "    data=open_raw_file(directory+file_name, start, stop)\n",
    "    i+=1\n",
    "    \n",
    "    \n",
    "    try:\n",
    "        current_index=0\n",
    "        baseline_avg=np.mean(data[current_index:current_index+baseline_avg_length,1])\n",
    "        baseline_sigma=np.std(data[current_index:current_index+baseline_avg_length,1])\n",
    "        trigger_threshold=trigger_sigma_threshold*baseline_sigma\n",
    "        baseline=np.vstack((baseline, np.array([[data[current_index,0], baseline_avg, baseline_avg-trigger_threshold,\\\n",
    "                                           baseline_avg+trigger_threshold]], dtype=float)))\n",
    "        while True:\n",
    "            # Look for events\n",
    "            start_trigger_found = False\n",
    "            while start_trigger_found == False:\n",
    "                # Current exceeds trigger threshold\n",
    "                if abs(data[current_index,1]-baseline_avg) >= trigger_threshold:\n",
    "                    # Check to see which updated baseline to compare to\n",
    "                    # Update baseline (i.e. in case of drift)\n",
    "                    baseline_avg=np.mean(data[current_index-2*baseline_avg_length:current_index-baseline_avg_length,1])\n",
    "                    baseline_sigma=np.std(data[current_index-2*baseline_avg_length:current_index-baseline_avg_length,1])\n",
    "                    trigger_threshold=trigger_sigma_threshold*baseline_sigma\n",
    "                    baseline=np.vstack((baseline, np.array([[data[current_index,0], baseline_avg, baseline_avg-1.*trigger_threshold,\\\n",
    "                                                baseline_avg+1.*trigger_threshold]], dtype=float)))\n",
    "                            \n",
    "                    # Point still exceeds trigger threshold\n",
    "                    if abs(data[current_index,1]-baseline_avg) >= trigger_threshold:\n",
    "                        # Trigger, get first point to exit baseline\n",
    "                        event_avg=np.mean(data[current_index-event_avg_length:current_index,1])\n",
    "                        start_index=current_index\n",
    "                        \n",
    "                        reentry_threshold=(baseline_avg+baseline_avg-trigger_threshold)/2.\n",
    "                        while start_trigger_found == False:\n",
    "                            if abs(data[start_index,1])>=abs(reentry_threshold):\n",
    "                                print 'event #', event_indices.shape[0]\n",
    "                                start_trigger_found = True\n",
    "                            else:\n",
    "                                event_avg=np.mean(data[start_index-event_avg_length:start_index,1])\n",
    "                                start_index-=1\n",
    "                    else:\n",
    "                        continue\n",
    "                current_index+=1\n",
    "    \n",
    "    \n",
    "            # Look for possible event end\n",
    "            stop_trigger_found = False\n",
    "            while stop_trigger_found == False: \n",
    "                \n",
    "                # Check if in baseline\n",
    "                in_baseline=True\n",
    "                for l in range(10):\n",
    "                    if abs(data[current_index+l,1]-baseline_avg) >= trigger_threshold: \n",
    "                        in_baseline=False\n",
    "                \n",
    "                # Return to baseline\n",
    "                if in_baseline:\n",
    "                    stop_index=current_index\n",
    "                    \n",
    "                    # Find exact event end\n",
    "                    event_avg=np.mean(data[current_index:current_index+event_avg_length,1])\n",
    "                    \n",
    "                    # Trigger, find first point to re-enter baseline\n",
    "                    reentry_threshold=(baseline_avg+baseline_avg-trigger_threshold)/2.\n",
    "                    while stop_trigger_found == False:\n",
    "                        if abs(data[stop_index,1])>=abs(reentry_threshold):\n",
    "                            stop_trigger_found = True\n",
    "                        else:\n",
    "                            stop_index+=1\n",
    "                    \n",
    "                    current_index=stop_index\n",
    "                    event_indices=np.vstack((event_indices, [[start_index, stop_index+1]]))\n",
    "                        \n",
    "                    events.append(Event())\n",
    "                    new_event=events[-1]\n",
    "                    new_event.set_start_stop_index(1.*event_indices[-1,0], 1.*event_indices[-1,1])\n",
    "                    new_event.set_data(data[event_indices[-1,0]:event_indices[-1,1],:])\n",
    "                        \n",
    "                    data[start_index:stop_index,1]=data[start_index-(stop_index-start_index):start_index,1]\n",
    "    \n",
    "                # Maximum search length\n",
    "                if current_index-start_index >= max_search_length:\n",
    "                    print 'hit maximum search length...\\n'\n",
    "                    print '\\tcurrent_index=', current_index, 'start_index=', start_index, '\\n'\n",
    "                    stop_trigger_found = True\n",
    "                    current_index=start_index+max_search_length #remove max search length\n",
    "                    baseline_avg=np.mean(data[current_index:current_index+baseline_avg_length,1])\n",
    "                    baseline_sigma=np.std(data[current_index:current_index+baseline_avg_length,1])\n",
    "                    trigger_threshold=trigger_sigma_threshold*baseline_sigma\n",
    "                    baseline=np.vstack((baseline, np.array([[data[current_index,0], baseline_avg, baseline_avg-1.*trigger_threshold,\\\n",
    "                                                   baseline_avg+1.*trigger_threshold]], dtype=float)))       \n",
    "                    \n",
    "                current_index+=1\n",
    "                #print '\\tt=', data[event_indices[-1,0],0]\n",
    "                #print '\\t', event_indices[-1,0], event_indices[-1,1], event_indices[-1,1]-event_indices[-1,0]\n",
    "    except:\n",
    "        continue"
   ]
  },
  {
   "cell_type": "markdown",
   "metadata": {},
   "source": [
    "# Make plots"
   ]
  },
  {
   "cell_type": "code",
   "execution_count": null,
   "metadata": {
    "collapsed": false
   },
   "outputs": [],
   "source": [
    "plt.plot(data[:,0], data[:,1])\n",
    "plt.plot(baseline[:,0], baseline[:,1])\n",
    "plt.plot(baseline[:,0], baseline[:,2])\n",
    "plt.xlim(data[0,0], data[1000000-1,0])\n",
    "plt.show()"
   ]
  },
  {
   "cell_type": "code",
   "execution_count": null,
   "metadata": {
    "collapsed": false,
    "scrolled": false
   },
   "outputs": [],
   "source": [
    "delta=500\n",
    "a=50\n",
    "data=open_raw_file(directory+file_name, start, stop)\n",
    "'''\n",
    "for i in range(50):\n",
    "    event=events[i]\n",
    "    plt.plot(event._data[:,0], event._data[:,1], c=(1,0,0), label='Event '+str(i), lw=3)\n",
    "    plt.plot(data[event._start_index-a:event._stop_index+a,0], data[event._start_index-a:event._stop_index+a,1])\n",
    "    plt.plot(baseline[:,0], baseline[:,1], label='baseline')\n",
    "    plt.plot(baseline[:,0], baseline[:,2], label='threshold')\n",
    "    plt.xlim(plt.xlim(data[event._start_index-a,0], data[event._stop_index+a,0]))\n",
    "    plt.ylim(event._data[:,1].min(), 1.001*event._data[:,1].max())\n",
    "    \n",
    "\n",
    "    \n",
    "    plt.ticklabel_format(style='sci', axis='x', scilimits=(0,0))\n",
    "    plt.xlabel('time (s)')\n",
    "    plt.ylabel(r'current ($\\micro$A)')\n",
    "    plt.legend(loc='lower left')\n",
    "    plt.show()"
   ]
  },
  {
   "cell_type": "markdown",
   "metadata": {},
   "source": [
    "# Clustering"
   ]
  },
  {
   "cell_type": "code",
   "execution_count": null,
   "metadata": {
    "collapsed": true
   },
   "outputs": [],
   "source": [
    "from sklearn.cluster import KMeans"
   ]
  },
  {
   "cell_type": "code",
   "execution_count": null,
   "metadata": {
    "collapsed": false
   },
   "outputs": [],
   "source": [
    "for i in range(10):\n",
    "    model=KMeans(n_clusters=3)\n",
    "    events[i].set_predictions(model.fit_predict(events[i]._data[:,1].reshape(-1,1)).reshape(-1,1))\n",
    "    events[i].set_levels(model.cluster_centers_)"
   ]
  },
  {
   "cell_type": "code",
   "execution_count": null,
   "metadata": {
    "collapsed": true
   },
   "outputs": [],
   "source": [
    "max_separation_length=10"
   ]
  },
  {
   "cell_type": "code",
   "execution_count": null,
   "metadata": {
    "collapsed": false
   },
   "outputs": [],
   "source": [
    "for i in range(10):\n",
    "    event=events[i]\n",
    "    level=event._predictions[0,0]\n",
    "    for j in range(event._data.shape[0]):\n",
    "        if event._predictions[j,0] == level:\n",
    "            j=0\n",
    "        else:\n",
    "            j+=1\n",
    "        if j == max_separation_length:\n",
    "            level=event._predictions[j,0]\n",
    "            event._split_list.append(j-max_separation_length)\n",
    "            j=0"
   ]
  },
  {
   "cell_type": "code",
   "execution_count": null,
   "metadata": {
    "collapsed": false
   },
   "outputs": [],
   "source": [
    "for i in range(10):\n",
    "    event=events[i]\n",
    "    plt.scatter(event._data[:,0], event._data[:,1], c=event._predictions[:,0], zorder=10)\n",
    "\n",
    "\n",
    "    for j in range(event._levels.shape[0]):\n",
    "        plt.plot([-1000,1000],[event._levels[j], event._levels[j]], lw=5)\n",
    "\n",
    "    for j in range(len(event._split_list)):\n",
    "        time=event._data[event._split_list[j],0]\n",
    "        plt.plot([time,time], [-1000000000,1000000000], ls='--', c=(.2,.2,.2))\n",
    "    \n",
    "    plt.title('event '+str(i))\n",
    "    \n",
    "    plt.xlim(event._data[0,0], event._data[-1,0])    \n",
    "    plt.ylim(event._data[:,1].min(), event._data[:,1].max())\n",
    "    plt.show()"
   ]
  },
  {
   "cell_type": "code",
   "execution_count": null,
   "metadata": {
    "collapsed": true
   },
   "outputs": [],
   "source": []
  },
  {
   "cell_type": "markdown",
   "metadata": {},
   "source": [
    "# Amplitude duration scatter plot"
   ]
  },
  {
   "cell_type": "code",
   "execution_count": null,
   "metadata": {
    "collapsed": false
   },
   "outputs": [],
   "source": [
    "amplitudes=[]\n",
    "durations=[]\n",
    "\n",
    "for i in range(len(events)):\n",
    "    event=events[i]\n",
    "    event.calculate_amplitude()\n",
    "    event.calculate_duration()\n",
    "    \n",
    "    amplitudes.append(event._amplitude)\n",
    "    durations.append(event._duration)"
   ]
  },
  {
   "cell_type": "code",
   "execution_count": null,
   "metadata": {
    "collapsed": false
   },
   "outputs": [],
   "source": [
    "print amplitudes[:10]\n",
    "print durations[:10]"
   ]
  },
  {
   "cell_type": "code",
   "execution_count": null,
   "metadata": {
    "collapsed": false
   },
   "outputs": [],
   "source": [
    "plt.scatter(durations, amplitudes)\n",
    "plt.xlim(min(durations), max(durations)/2.)\n",
    "plt.ylim(min(amplitudes), max(amplitudes))\n",
    "\n",
    "plt.show()"
   ]
  },
  {
   "cell_type": "code",
   "execution_count": null,
   "metadata": {
    "collapsed": false
   },
   "outputs": [],
   "source": [
    "print len(events)"
   ]
  },
  {
   "cell_type": "code",
   "execution_count": null,
   "metadata": {
    "collapsed": true
   },
   "outputs": [],
   "source": []
  }
 ],
 "metadata": {
  "kernelspec": {
   "display_name": "Python 2",
   "language": "python",
   "name": "python2"
  },
  "language_info": {
   "codemirror_mode": {
    "name": "ipython",
    "version": 2
   },
   "file_extension": ".py",
   "mimetype": "text/x-python",
   "name": "python",
   "nbconvert_exporter": "python",
   "pygments_lexer": "ipython2",
   "version": "2.7.11"
  }
 },
 "nbformat": 4,
 "nbformat_minor": 0
}
