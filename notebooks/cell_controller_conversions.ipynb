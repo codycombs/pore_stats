{
 "cells": [
  {
   "cell_type": "code",
   "execution_count": 11,
   "metadata": {
    "collapsed": true
   },
   "outputs": [],
   "source": [
    "import numpy as np\n",
    "import csv\n",
    "import struct\n",
    "import matplotlib.pyplot as plt\n",
    "%matplotlib inline"
   ]
  },
  {
   "cell_type": "markdown",
   "metadata": {},
   "source": [
    "# RESISTIVE PULSE"
   ]
  },
  {
   "cell_type": "code",
   "execution_count": 18,
   "metadata": {
    "collapsed": true
   },
   "outputs": [],
   "source": [
    "file_directory = '/home/prestonh/Desktop/Research/cancer_cells/data/1-27-2017/'\n",
    "file_name = 'test_rp_0'\n",
    "file_path = file_directory + file_name\n",
    "file_handle = open(file_path, 'r')\n",
    "file_reader = csv.reader(file_handle)\n",
    "\n",
    "new_file_path = file_path + '.bts'"
   ]
  },
  {
   "cell_type": "code",
   "execution_count": 19,
   "metadata": {
    "collapsed": false
   },
   "outputs": [],
   "source": [
    "current = []\n",
    "for row in file_reader:\n",
    "    current.append(float(row[0]))\n",
    "current = np.array(current).reshape(-1,1)\n",
    "time = np.array([i*1./250000 for i in xrange(len(current))]).reshape(-1,1)\n",
    "data = np.hstack((time, current))"
   ]
  },
  {
   "cell_type": "code",
   "execution_count": 21,
   "metadata": {
    "collapsed": false
   },
   "outputs": [],
   "source": [
    "np.array(data, dtype = np.float64).tofile(new_file_path)"
   ]
  },
  {
   "cell_type": "code",
   "execution_count": null,
   "metadata": {
    "collapsed": true
   },
   "outputs": [],
   "source": []
  }
 ],
 "metadata": {
  "kernelspec": {
   "display_name": "Python 2",
   "language": "python",
   "name": "python2"
  },
  "language_info": {
   "codemirror_mode": {
    "name": "ipython",
    "version": 2
   },
   "file_extension": ".py",
   "mimetype": "text/x-python",
   "name": "python",
   "nbconvert_exporter": "python",
   "pygments_lexer": "ipython2",
   "version": "2.7.13"
  }
 },
 "nbformat": 4,
 "nbformat_minor": 2
}
