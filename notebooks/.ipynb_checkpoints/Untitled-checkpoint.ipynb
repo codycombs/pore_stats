{
 "cells": [
  {
   "cell_type": "code",
   "execution_count": null,
   "metadata": {
    "collapsed": true
   },
   "outputs": [],
   "source": [
    "import sys\n",
    "sys.path.append('/home/prestonh/Desktop/Research/pore_stats/lib/oi/')\n",
    "sys.path.append('/home/prestonh/Desktop/Research/pore_stats/lib/rp/')\n",
    "import numpy as np\n",
    "import matplotlib.pyplot as plt\n",
    "import matplotlib.gridspec as gs\n",
    "import matplotlib.animation as animation\n",
    "%matplotlib inline\n",
    "from scipy.ndimage.interpolation import rotate\n",
    "from math import cos, sin\n",
    "import time\n",
    "import random\n",
    "import string\n",
    "import optical_imaging as oi\n",
    "import copy\n",
    "import oi_file\n",
    "from scipy.ndimage.filters import gaussian_filter\n",
    "import resistive_pulse as rp\n",
    "import os\n",
    "pi=3.14159\n",
    "import cv2"
   ]
  },
  {
   "cell_type": "code",
   "execution_count": null,
   "metadata": {
    "collapsed": true
   },
   "outputs": [],
   "source": [
    "for event in raw_events:\n",
    "    print 'new event'\n",
    "    for det in event._detections:\n",
    "        plt.imshow(vid.get_frame(det._tf), cmap = 'gray', origin = 'lower')\n",
    "        plt.show()"
   ]
  }
 ],
 "metadata": {
  "kernelspec": {
   "display_name": "Python 2",
   "language": "python",
   "name": "python2"
  },
  "language_info": {
   "codemirror_mode": {
    "name": "ipython",
    "version": 2
   },
   "file_extension": ".py",
   "mimetype": "text/x-python",
   "name": "python",
   "nbconvert_exporter": "python",
   "pygments_lexer": "ipython2",
   "version": "2.7.13"
  }
 },
 "nbformat": 4,
 "nbformat_minor": 2
}
