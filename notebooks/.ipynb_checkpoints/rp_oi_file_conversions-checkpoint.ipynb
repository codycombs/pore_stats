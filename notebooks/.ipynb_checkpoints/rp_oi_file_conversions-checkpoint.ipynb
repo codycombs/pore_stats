{
 "cells": [
  {
   "cell_type": "markdown",
   "metadata": {},
   "source": [
    "# File conversions\n",
    "\n",
    "### Resistive pulse:\n",
    "- .atf to .bts\n",
    "- .atf to .bts (directory)\n",
    "- .bts splitting\n",
    "\n",
    "### Optical imaging:\n",
    "- .mp4 to .bvi"
   ]
  },
  {
   "cell_type": "markdown",
   "metadata": {},
   "source": [
    "## Imports"
   ]
  },
  {
   "cell_type": "code",
   "execution_count": 3,
   "metadata": {
    "collapsed": true
   },
   "outputs": [],
   "source": [
    "import sys\n",
    "sys.path.append('/home/prestonh/Desktop/Research/pore_stats/lib/rp/')\n",
    "import csv\n",
    "from array import array\n",
    "import struct\n",
    "import numpy as np\n",
    "import os\n",
    "from os.path import isfile, join\n",
    "import matplotlib.pyplot as plt"
   ]
  },
  {
   "cell_type": "markdown",
   "metadata": {},
   "source": [
    "## Resistive Pulse"
   ]
  },
  {
   "cell_type": "code",
   "execution_count": 4,
   "metadata": {
    "collapsed": false
   },
   "outputs": [],
   "source": [
    "import resistive_pulse as rp\n",
    "import rp_file"
   ]
  },
  {
   "cell_type": "markdown",
   "metadata": {},
   "source": [
    "### raw text to .bts"
   ]
  },
  {
   "cell_type": "code",
   "execution_count": 5,
   "metadata": {
    "collapsed": false
   },
   "outputs": [],
   "source": [
    "from os import listdir\n",
    "from os.path import isfile, join\n",
    "file_directory = '/home/prestonh/Desktop/Research/cancer_cells/data/3-9-2017/rp/raw/'\n",
    "\n",
    "file_names = [f for f in listdir(file_directory) if isfile(join(file_directory, f))]\n",
    "\n",
    "for file_name in file_names:\n",
    "    file_path = file_directory + file_name\n",
    "    \n",
    "    output_file_path = file_path + '.bts'\n",
    "\n",
    "    file_handle = open(file_path, 'r')\n",
    "    file_reader = csv.reader(file_handle, delimiter = '\\t')\n",
    "\n",
    "\n",
    "\n",
    "    data_list = []\n",
    "    for row in file_reader:\n",
    "        data_list.append(float(row[0]))\n",
    "\n",
    "    file_handle.close()\n",
    "\n",
    "    data = np.empty((len(data_list), 2))\n",
    "\n",
    "    for i in range(len(data_list)):\n",
    "        data[i,0] = i/250000.\n",
    "        data[i,1] = data_list[i]\n",
    "\n",
    "\n",
    "    rp_file.np_to_bts(output_file_path, data)"
   ]
  },
  {
   "cell_type": "markdown",
   "metadata": {},
   "source": [
    "### .atf to .bts"
   ]
  },
  {
   "cell_type": "code",
   "execution_count": null,
   "metadata": {
    "collapsed": true
   },
   "outputs": [],
   "source": [
    "directory = '/home/preston/Desktop/Science/Research/cancer_cells/data/10-6-2016/atf/'\n",
    "file_name = 'hct116_17530175_pr0040_0000.atf'\n",
    "file_path = directory + file_name"
   ]
  },
  {
   "cell_type": "code",
   "execution_count": null,
   "metadata": {
    "collapsed": false
   },
   "outputs": [],
   "source": [
    "rp_file.atf_to_bts(file_path)"
   ]
  },
  {
   "cell_type": "markdown",
   "metadata": {},
   "source": [
    "### directory .atf to .bts\n",
    "- Full-directory conversion of .atf to .bts"
   ]
  },
  {
   "cell_type": "code",
   "execution_count": null,
   "metadata": {
    "collapsed": false
   },
   "outputs": [],
   "source": [
    "directory = '/home/preston/Desktop/Science/Research/precipitation/data/2016_08_26_Conical_pore_0/precip/atf/'\n",
    "file_paths = [os.path.join(directory, f) for f in os.listdir(directory) if os.path.isfile(os.path.join(directory, f))]\n",
    "\n",
    "for file_path in file_paths:\n",
    "    print file_path, '\\n'"
   ]
  },
  {
   "cell_type": "code",
   "execution_count": null,
   "metadata": {
    "collapsed": false
   },
   "outputs": [],
   "source": [
    "for file_path in file_paths:\n",
    "    rp_file.atf_to_bts(file_path)"
   ]
  },
  {
   "cell_type": "markdown",
   "metadata": {},
   "source": [
    "### .abf reader test"
   ]
  },
  {
   "cell_type": "code",
   "execution_count": 46,
   "metadata": {
    "collapsed": false
   },
   "outputs": [
    {
     "name": "stdout",
     "output_type": "stream",
     "text": [
      "16816000\n",
      "[[  0.00000000e+00   3.59985312e+04]\n",
      " [  5.00000000e-05   3.59863242e+04]\n",
      " [  1.00000000e-04   3.59863242e+04]\n",
      " ..., \n",
      " [  8.40799850e+02   3.43811016e+04]\n",
      " [  8.40799900e+02   3.43933086e+04]\n",
      " [  8.40799950e+02   3.43872031e+04]]\n"
     ]
    }
   ],
   "source": [
    "reload(rp_file)\n",
    "file_path = '/home/prestonh/Desktop/Research/pore_stats/lib/rp/abf_test/test.abf'\n",
    "\n",
    "data = rp_file.get_data(file_path)"
   ]
  },
  {
   "cell_type": "code",
   "execution_count": 47,
   "metadata": {
    "collapsed": false
   },
   "outputs": [
    {
     "data": {
      "image/png": "[encoded data removed]",
      "text/plain": [
       "<matplotlib.figure.Figure at 0x7f92bd4f37d0>"
      ]
     },
     "metadata": {},
     "output_type": "display_data"
    }
   ],
   "source": [
    "plt.plot(data[:,0], data[:,1])\n",
    "plt.show()"
   ]
  },
  {
   "cell_type": "markdown",
   "metadata": {},
   "source": [
    "### Split bts\n",
    "- Split a bts file into multiple parts to facilitate easier usage (e.g., pore_stats can hang up on files with 1000+ events for now)."
   ]
  },
  {
   "cell_type": "code",
   "execution_count": null,
   "metadata": {
    "collapsed": true
   },
   "outputs": [],
   "source": [
    "file_path = '/home/preston/Desktop/Science/Research/cancer_cells/data/8-18-2016/rp/bts/HCT116_pr0009_0000_split0.bts'"
   ]
  },
  {
   "cell_type": "code",
   "execution_count": null,
   "metadata": {
    "collapsed": false
   },
   "outputs": [],
   "source": [
    "rp_file.split_file(file_path, 6)      # Second number is number of segments to split in to"
   ]
  },
  {
   "cell_type": "markdown",
   "metadata": {
    "collapsed": true
   },
   "source": [
    "## Optical imaging"
   ]
  },
  {
   "cell_type": "markdown",
   "metadata": {},
   "source": [
    "### mp4 to bvi"
   ]
  },
  {
   "cell_type": "code",
   "execution_count": null,
   "metadata": {
    "collapsed": false
   },
   "outputs": [],
   "source": [
    "import optical_imaging as oi\n",
    "import oi_file"
   ]
  },
  {
   "cell_type": "code",
   "execution_count": null,
   "metadata": {
    "collapsed": false
   },
   "outputs": [],
   "source": [
    "directory = '/home/preston/Desktop/Science/Research/cancer_cells/data/10-6-2016/'\n",
    "file_path = directory + 'hct-116_methylcellulose_pr0040_1.mp4'\n",
    "\n",
    "output_file_path = filepath.split('.')[0]+'.bvi'\n",
    "\n",
    "oi_file.mp4_to_oi(file_path, output_filepath, alpha = 1., beta = .0)"
   ]
  }
 ],
 "metadata": {
  "anaconda-cloud": {},
  "kernelspec": {
   "display_name": "Python 2",
   "language": "python",
   "name": "python2"
  },
  "language_info": {
   "codemirror_mode": {
    "name": "ipython",
    "version": 2
   },
   "file_extension": ".py",
   "mimetype": "text/x-python",
   "name": "python",
   "nbconvert_exporter": "python",
   "pygments_lexer": "ipython2",
   "version": "2.7.13"
  }
 },
 "nbformat": 4,
 "nbformat_minor": 0
}
