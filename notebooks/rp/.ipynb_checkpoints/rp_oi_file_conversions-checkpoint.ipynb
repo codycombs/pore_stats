{
 "cells": [
  {
   "cell_type": "markdown",
   "metadata": {},
   "source": [
    "# File conversions"
   ]
  },
  {
   "cell_type": "markdown",
   "metadata": {},
   "source": [
    "### Imports"
   ]
  },
  {
   "cell_type": "code",
   "execution_count": 1,
   "metadata": {},
   "outputs": [],
   "source": [
    "# Python standard library\n",
    "import sys\n",
    "import os\n",
    "import csv\n",
    "import array\n",
    "import struct\n",
    "\n",
    "# Scipy\n",
    "import numpy as np\n",
    "import matplotlib.pyplot as plt\n",
    "\n",
    "# Program specific\n",
    "PORE_STATS_BASE_DIRECTORY = os.getcwd().replace('notebooks', '')\n",
    "sys.path.append(PORE_STATS_BASE_DIRECTORY + '/pore_stats/oi/')\n",
    "sys.path.append(PORE_STATS_BASE_DIRECTORY + '/pore_stats/rp/')\n",
    "\n",
    "import resistive_pulse as rp\n",
    "import rp_file\n",
    "\n",
    "import optical_imaging as oi\n",
    "import oi_file"
   ]
  },
  {
   "cell_type": "markdown",
   "metadata": {},
   "source": [
    "## raw text to .bts"
   ]
  },
  {
   "cell_type": "code",
   "execution_count": 2,
   "metadata": {},
   "outputs": [],
   "source": [
    "base_file_directory = 'C:\\Users\\SiwyLab\\Desktop\\Cody\\cell_research\\cancer_cells\\data'\n",
    "date = '/10-10-2017'\n",
    "particle = '/293-T_1'\n",
    "channel = '/10-20-10_1'\n",
    "\n",
    "file_directory = base_file_directory + date + particle + channel + '/rp/raw/'\n",
    "\n",
    "file_names = [f for f in os.listdir(file_directory) if os.path.isfile(os.path.join(file_directory, f))]\n",
    "\n",
    "for file_name in file_names:\n",
    "    file_path = file_directory + file_name\n",
    "    \n",
    "    output_file_path = file_path + '.bts'\n",
    "\n",
    "    file_handle = open(file_path, 'r')\n",
    "    file_reader = csv.reader(file_handle, delimiter = '\\t')\n",
    "\n",
    "\n",
    "\n",
    "    data_list = []\n",
    "    for row in file_reader:\n",
    "        data_list.append(float(row[0]))\n",
    "\n",
    "    file_handle.close()\n",
    "\n",
    "    data = np.empty((len(data_list), 2))\n",
    "\n",
    "    for i in range(len(data_list)):\n",
    "        data[i,0] = i/250000.\n",
    "        data[i,1] = data_list[i]\n",
    "\n",
    "    rp_file.np_to_bts(output_file_path, data)"
   ]
  },
  {
   "cell_type": "markdown",
   "metadata": {},
   "source": [
    "## .atf to .bts"
   ]
  },
  {
   "cell_type": "code",
   "execution_count": 5,
   "metadata": {
    "collapsed": true
   },
   "outputs": [],
   "source": [
    "directory = '/home/preston/Desktop/Science/Research/cancer_cells/data/3-7-2017/293-T/'\n",
    "file_name = 'hct116_17530175_pr0040_0000.atf'\n",
    "file_path = directory + file_name"
   ]
  },
  {
   "cell_type": "code",
   "execution_count": 6,
   "metadata": {},
   "outputs": [
    {
     "ename": "IOError",
     "evalue": "[Errno 2] No such file or directory: '/home/preston/Desktop/Science/Research/cancer_cells/data/3-7-2017/293-T/hct116_17530175_pr0040_0000.atf'",
     "output_type": "error",
     "traceback": [
      "\u001b[0;31m---------------------------------------------------------------------------\u001b[0m",
      "\u001b[0;31mIOError\u001b[0m                                   Traceback (most recent call last)",
      "\u001b[0;32m<ipython-input-6-640cca0b1b73>\u001b[0m in \u001b[0;36m<module>\u001b[0;34m()\u001b[0m\n\u001b[0;32m----> 1\u001b[0;31m \u001b[0mrp_file\u001b[0m\u001b[0;34m.\u001b[0m\u001b[0matf_to_bts\u001b[0m\u001b[0;34m(\u001b[0m\u001b[0mfile_path\u001b[0m\u001b[0;34m)\u001b[0m\u001b[0;34m\u001b[0m\u001b[0m\n\u001b[0m",
      "\u001b[0;32m/home/prestonh/Desktop/Research/pore_stats//pore_stats/rp/rp_file.pyc\u001b[0m in \u001b[0;36matf_to_bts\u001b[0;34m(file_path, current_column, byte_type)\u001b[0m\n\u001b[1;32m    284\u001b[0m \u001b[0;34m\u001b[0m\u001b[0m\n\u001b[1;32m    285\u001b[0m     \u001b[0;31m# Length of file is first line of output\u001b[0m\u001b[0;34m\u001b[0m\u001b[0;34m\u001b[0m\u001b[0m\n\u001b[0;32m--> 286\u001b[0;31m     \u001b[0mfile_length\u001b[0m \u001b[0;34m=\u001b[0m \u001b[0mget_file_length\u001b[0m\u001b[0;34m(\u001b[0m\u001b[0mfile_path\u001b[0m\u001b[0;34m)\u001b[0m\u001b[0;34m\u001b[0m\u001b[0m\n\u001b[0m\u001b[1;32m    287\u001b[0m \u001b[0;34m\u001b[0m\u001b[0m\n\u001b[1;32m    288\u001b[0m \u001b[0;34m\u001b[0m\u001b[0m\n",
      "\u001b[0;32m/home/prestonh/Desktop/Research/pore_stats//pore_stats/rp/rp_file.pyc\u001b[0m in \u001b[0;36mget_file_length\u001b[0;34m(file_path)\u001b[0m\n\u001b[1;32m    171\u001b[0m \u001b[0;34m\u001b[0m\u001b[0m\n\u001b[1;32m    172\u001b[0m     \u001b[0;32melif\u001b[0m \u001b[0mfile_type\u001b[0m \u001b[0;34m==\u001b[0m \u001b[0;34m'atf'\u001b[0m\u001b[0;34m:\u001b[0m\u001b[0;34m\u001b[0m\u001b[0m\n\u001b[0;32m--> 173\u001b[0;31m         \u001b[0macq_mode\u001b[0m \u001b[0;34m=\u001b[0m \u001b[0mget_atf_acquisition_mode\u001b[0m\u001b[0;34m(\u001b[0m\u001b[0mfile_path\u001b[0m\u001b[0;34m)\u001b[0m\u001b[0;34m\u001b[0m\u001b[0m\n\u001b[0m\u001b[1;32m    174\u001b[0m         \u001b[0;32mwith\u001b[0m \u001b[0mopen\u001b[0m\u001b[0;34m(\u001b[0m\u001b[0mfile_path\u001b[0m\u001b[0;34m)\u001b[0m \u001b[0;32mas\u001b[0m \u001b[0mf\u001b[0m\u001b[0;34m:\u001b[0m\u001b[0;34m\u001b[0m\u001b[0m\n\u001b[1;32m    175\u001b[0m             \u001b[0;32mfor\u001b[0m \u001b[0mi\u001b[0m\u001b[0;34m,\u001b[0m \u001b[0ml\u001b[0m \u001b[0;32min\u001b[0m \u001b[0menumerate\u001b[0m\u001b[0;34m(\u001b[0m\u001b[0mf\u001b[0m\u001b[0;34m)\u001b[0m\u001b[0;34m:\u001b[0m\u001b[0;34m\u001b[0m\u001b[0m\n",
      "\u001b[0;32m/home/prestonh/Desktop/Research/pore_stats//pore_stats/rp/rp_file.pyc\u001b[0m in \u001b[0;36mget_atf_acquisition_mode\u001b[0;34m(file_path)\u001b[0m\n\u001b[1;32m    261\u001b[0m     \"\"\"\n\u001b[1;32m    262\u001b[0m \u001b[0;34m\u001b[0m\u001b[0m\n\u001b[0;32m--> 263\u001b[0;31m     \u001b[0minput_file_handle\u001b[0m\u001b[0;34m=\u001b[0m\u001b[0mopen\u001b[0m\u001b[0;34m(\u001b[0m\u001b[0mfile_path\u001b[0m\u001b[0;34m,\u001b[0m \u001b[0;34m'r'\u001b[0m\u001b[0;34m)\u001b[0m\u001b[0;34m\u001b[0m\u001b[0m\n\u001b[0m\u001b[1;32m    264\u001b[0m     \u001b[0minput_reader\u001b[0m\u001b[0;34m=\u001b[0m\u001b[0mcsv\u001b[0m\u001b[0;34m.\u001b[0m\u001b[0mreader\u001b[0m\u001b[0;34m(\u001b[0m\u001b[0minput_file_handle\u001b[0m\u001b[0;34m,\u001b[0m \u001b[0mdelimiter\u001b[0m\u001b[0;34m=\u001b[0m\u001b[0;34m'\\t'\u001b[0m\u001b[0;34m,\u001b[0m \u001b[0mquotechar\u001b[0m\u001b[0;34m=\u001b[0m\u001b[0;34m'|'\u001b[0m\u001b[0;34m)\u001b[0m\u001b[0;34m\u001b[0m\u001b[0m\n\u001b[1;32m    265\u001b[0m \u001b[0;34m\u001b[0m\u001b[0m\n",
      "\u001b[0;31mIOError\u001b[0m: [Errno 2] No such file or directory: '/home/preston/Desktop/Science/Research/cancer_cells/data/3-7-2017/293-T/hct116_17530175_pr0040_0000.atf'"
     ]
    }
   ],
   "source": [
    "rp_file.atf_to_bts(file_path)"
   ]
  },
  {
   "cell_type": "markdown",
   "metadata": {},
   "source": [
    "## directory .atf to .bts\n",
    "- Full-directory conversion of .atf to .bts"
   ]
  },
  {
   "cell_type": "code",
   "execution_count": null,
   "metadata": {},
   "outputs": [],
   "source": [
    "directory = '/home/preston/Desktop/Science/Research/precipitation/data/2016_08_26_Conical_pore_0/precip/atf/'\n",
    "file_paths = [os.path.join(directory, f) for f in os.listdir(directory) if os.path.isfile(os.path.join(directory, f))]\n",
    "\n",
    "for file_path in file_paths:\n",
    "    print file_path, '\\n'"
   ]
  },
  {
   "cell_type": "code",
   "execution_count": null,
   "metadata": {},
   "outputs": [],
   "source": [
    "for file_path in file_paths:\n",
    "    rp_file.atf_to_bts(file_path)"
   ]
  },
  {
   "cell_type": "markdown",
   "metadata": {},
   "source": [
    "## .abf reader test"
   ]
  },
  {
   "cell_type": "code",
   "execution_count": 46,
   "metadata": {},
   "outputs": [
    {
     "name": "stdout",
     "output_type": "stream",
     "text": [
      "16816000\n",
      "[[  0.00000000e+00   3.59985312e+04]\n",
      " [  5.00000000e-05   3.59863242e+04]\n",
      " [  1.00000000e-04   3.59863242e+04]\n",
      " ..., \n",
      " [  8.40799850e+02   3.43811016e+04]\n",
      " [  8.40799900e+02   3.43933086e+04]\n",
      " [  8.40799950e+02   3.43872031e+04]]\n"
     ]
    }
   ],
   "source": [
    "reload(rp_file)\n",
    "file_path = '/home/prestonh/Desktop/Research/pore_stats/lib/rp/abf_test/test.abf'\n",
    "\n",
    "data = rp_file.get_data(file_path)"
   ]
  },
  {
   "cell_type": "markdown",
   "metadata": {},
   "source": [
    "## Split bts\n",
    "- Split a bts file into multiple parts to facilitate easier usage (e.g., pore_stats can hang up on files with 1000+ events for now)."
   ]
  },
  {
   "cell_type": "code",
   "execution_count": null,
   "metadata": {
    "collapsed": true
   },
   "outputs": [],
   "source": [
    "file_path = '/home/preston/Desktop/Science/Research/cancer_cells/data/8-18-2016/rp/bts/HCT116_pr0009_0000_split0.bts'"
   ]
  },
  {
   "cell_type": "code",
   "execution_count": null,
   "metadata": {},
   "outputs": [],
   "source": [
    "rp_file.split_file(file_path, 6)      # Second number is number of segments to split in to"
   ]
  },
  {
   "cell_type": "markdown",
   "metadata": {
    "collapsed": true
   },
   "source": [
    "## Optical imaging"
   ]
  },
  {
   "cell_type": "markdown",
   "metadata": {},
   "source": [
    "### mp4 to bvi"
   ]
  },
  {
   "cell_type": "code",
   "execution_count": null,
   "metadata": {},
   "outputs": [],
   "source": [
    "directory = '/home/preston/Desktop/Science/Research/cancer_cells/data/10-6-2016/'\n",
    "file_path = directory + 'hct-116_methylcellulose_pr0040_1.mp4'\n",
    "\n",
    "output_file_path = filepath.split('.')[0]+'.bvi'\n",
    "\n",
    "oi_file.mp4_to_oi(file_path, output_filepath, alpha = 1., beta = .0)"
   ]
  }
 ],
 "metadata": {
  "anaconda-cloud": {},
  "kernelspec": {
   "display_name": "Python [conda env:py27]",
   "language": "python",
   "name": "conda-env-py27-py"
  },
  "language_info": {
   "codemirror_mode": {
    "name": "ipython",
    "version": 2
   },
   "file_extension": ".py",
   "mimetype": "text/x-python",
   "name": "python",
   "nbconvert_exporter": "python",
   "pygments_lexer": "ipython2",
   "version": "2.7.16"
  }
 },
 "nbformat": 4,
 "nbformat_minor": 1
}
